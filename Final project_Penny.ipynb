{
 "cells": [
  {
   "cell_type": "markdown",
   "id": "058095cd-5404-4bde-8924-47dd27a84b7f",
   "metadata": {},
   "source": [
    "# Final Project\n",
    "\n",
    "I’ll use two datasets, AB_NYC_2019.csv (2019 data) and NYC-Airbnb-2023.csv (2023 data), to explore how Airbnb prices in NYC have changed over time. I want to find out which neighborhoods have the highest prices, how property types affect pricing, and whether factors like availability or host activity make a difference. \n",
    "\n",
    "The goal is to understand what drives Airbnb prices, how the market has evolved, and what insights for both hosts and guests.\n",
    "\n",
    "### Host Analysis\n",
    "* Most Listings: Who are the top hosts with the most listings, and how are their properties distributed across neighborhoods?\n",
    "* Highest Revenue Potential: Which host has the highest potential revenue based on price and availability, and how are their properties distributed?\n",
    "* Highest-Priced Property: Which host owns the most expensive listing, and in which neighborhood?\n",
    "\n",
    "### Neighborhood Analysis\n",
    "* Concentration of Listings: Which neighborhoods have the most Airbnb listings, and how has this changed from 2019 to 2023?\n",
    "* Highest Average Price: Which neighborhoods consistently have the highest prices, and what factors influence this (e.g., property type, host activity)?\n",
    "\n",
    "### Property Type Analysis\n",
    "* Most Popular Type: Which property type has the most listings, and how are they distributed across neighborhoods?\n",
    "* Highest Average Price: Which property type commands the highest average price, especially within neighborhoods?\n",
    "* Year-Round Availability: Which property type is available year-round the most?\n",
    "\n",
    "### Time-Based Trends\n",
    "* Pricing Changes: How have prices changed over time for neighborhoods and property types (2019 vs. 2023)?\n",
    "* Price vs. Availability: Is there a relationship between higher prices and year-round availability?\n",
    "\n",
    "### Guest Interaction and Reviews\n",
    "* Most Reviews: Which listings have the highest number of reviews, and what are their locations, property types, and prices?\n",
    "* Review Correlation: Does the number of reviews relate to the price or availability of a property?"
   ]
  },
  {
   "cell_type": "code",
   "execution_count": null,
   "id": "a4db9cf3-25a7-46d1-b705-1acb863b62ee",
   "metadata": {},
   "outputs": [],
   "source": []
  },
  {
   "cell_type": "code",
   "execution_count": null,
   "id": "a726798c-ec10-4086-b651-fba7bc1e3273",
   "metadata": {},
   "outputs": [],
   "source": []
  }
 ],
 "metadata": {
  "kernelspec": {
   "display_name": "Python 3 (ipykernel)",
   "language": "python",
   "name": "python3"
  },
  "language_info": {
   "codemirror_mode": {
    "name": "ipython",
    "version": 3
   },
   "file_extension": ".py",
   "mimetype": "text/x-python",
   "name": "python",
   "nbconvert_exporter": "python",
   "pygments_lexer": "ipython3",
   "version": "3.9.6"
  }
 },
 "nbformat": 4,
 "nbformat_minor": 5
}
